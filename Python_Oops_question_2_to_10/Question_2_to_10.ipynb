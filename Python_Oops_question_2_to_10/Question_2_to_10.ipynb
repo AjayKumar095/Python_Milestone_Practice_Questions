{
 "cells": [
  {
   "cell_type": "markdown",
   "metadata": {},
   "source": [
    "<h3 style='color: green;'><center>Question 2</center></h3>\n",
    "Design and implement a Python program for managing student information using object-oriented priciples. Create a class called 'Student' with encapsulated attributer for name, age, and roll number. Implement getter and setter methods for these attributes. Additionally, provide the methods to display student information and update details.\n",
    "\n",
    "Tasks:\n",
    "\n",
    "- Define the 'Student' class with encapsulated attributes.\n",
    "- Implement getter and setter methods for the attributes.\n",
    "- Write methods to diaplay student information and update details.\n",
    "- Create instances of the 'Student' class and test the implemented functionality."
   ]
  },
  {
   "cell_type": "code",
   "execution_count": 48,
   "metadata": {},
   "outputs": [
    {
     "name": "stdout",
     "output_type": "stream",
     "text": [
      "Student Information Saved.\n",
      "Student Information Saved.\n",
      "---------------------- Student Information -----------------------------\n",
      "==========================================================================\n",
      "|| Name: Vijay || Age: 24 || Roll No.: 123 ||\n",
      "|| Name: Mohan || Age: 23 || Roll No.: 145 ||\n",
      "==========================================================================\n",
      "Student details updated.\n"
     ]
    }
   ],
   "source": [
    "class Student:\n",
    "    __student_data = []  # Private attribute to store all student data\n",
    "\n",
    "    def __init__(self, name: str, age: float, roll_no: int) -> None:\n",
    "        self.__name = name\n",
    "        self.__age = age\n",
    "        self.__roll_no = roll_no\n",
    "\n",
    "    def set_student(self):\n",
    "        try:\n",
    "            student_info = {\n",
    "                \"Name\": self.__name,\n",
    "                \"Age\": self.__age,\n",
    "                \"Roll Number\": self.__roll_no\n",
    "            }\n",
    "            Student.__student_data.append(student_info)\n",
    "            return 'Student Information Saved.'\n",
    "        except Exception as e:\n",
    "            return f'Error: {e}'\n",
    "\n",
    "    def get_student(self):\n",
    "        try:\n",
    "            print('---------------------- Student Information -----------------------------')\n",
    "            print('==========================================================================')\n",
    "            for student in Student.__student_data:\n",
    "                print(f'|| Name: {student[\"Name\"]} || Age: {student[\"Age\"]} || Roll No.: {student[\"Roll Number\"]} ||')\n",
    "            print('==========================================================================')\n",
    "        except Exception as e:\n",
    "            return f'Error: {e}'\n",
    "\n",
    "    def update_details(self, updated_name: str, updated_age: float, updated_roll_no: int):\n",
    "        try:\n",
    "            # Find and update the student record in __student_data\n",
    "            for student in Student.__student_data:\n",
    "                if student[\"Roll Number\"] == self.__roll_no:\n",
    "                    student[\"Name\"] = updated_name\n",
    "                    student[\"Age\"] = updated_age\n",
    "                    student[\"Roll Number\"] = updated_roll_no\n",
    "                    break\n",
    "            self.__name = updated_name\n",
    "            self.__age = updated_age\n",
    "            self.__roll_no = updated_roll_no\n",
    "            self.get_student()\n",
    "            return 'Student details updated.'\n",
    "        except Exception as e:\n",
    "            return f'Error: {e}'\n",
    "\n",
    "# Create a student instance\n",
    "student1 = Student(name=\"Ajay\", age=25, roll_no=144)\n",
    "student2 = Student(name=\"Mohan\", age=23, roll_no=145)\n",
    "print(student1.set_student()) \n",
    "print(student2.set_student())# Save student information\n",
    "\n",
    "# Update student details\n",
    "print(student1.update_details(updated_name='Vijay', updated_age=24, updated_roll_no=123))\n"
   ]
  },
  {
   "cell_type": "code",
   "execution_count": null,
   "metadata": {},
   "outputs": [],
   "source": []
  }
 ],
 "metadata": {
  "kernelspec": {
   "display_name": "base",
   "language": "python",
   "name": "python3"
  },
  "language_info": {
   "codemirror_mode": {
    "name": "ipython",
    "version": 3
   },
   "file_extension": ".py",
   "mimetype": "text/x-python",
   "name": "python",
   "nbconvert_exporter": "python",
   "pygments_lexer": "ipython3",
   "version": "3.11.7"
  }
 },
 "nbformat": 4,
 "nbformat_minor": 2
}
