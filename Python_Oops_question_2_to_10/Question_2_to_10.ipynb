{
 "cells": [
  {
   "cell_type": "markdown",
   "metadata": {},
   "source": [
    "<h3 style='color: green;'><center>Question 2 <br> Student Management System.</center></h3>\n"
   ]
  },
  {
   "cell_type": "code",
   "execution_count": 49,
   "metadata": {},
   "outputs": [
    {
     "name": "stdout",
     "output_type": "stream",
     "text": [
      "Student Information Saved.\n",
      "Student Information Saved.\n",
      "---------------------- Student Information -----------------------------\n",
      "==========================================================================\n",
      "|| Name: Vijay || Age: 24 || Roll No.: 123 ||\n",
      "|| Name: Mohan || Age: 23 || Roll No.: 145 ||\n",
      "==========================================================================\n",
      "Student details updated.\n"
     ]
    }
   ],
   "source": [
    "class Student:\n",
    "    __student_data = []  # Private attribute to store all student data\n",
    "\n",
    "    def __init__(self, name: str, age: float, roll_no: int) -> None:\n",
    "        self.__name = name\n",
    "        self.__age = age\n",
    "        self.__roll_no = roll_no\n",
    "\n",
    "    def set_student(self):\n",
    "        try:\n",
    "            student_info = {\n",
    "                \"Name\": self.__name,\n",
    "                \"Age\": self.__age,\n",
    "                \"Roll Number\": self.__roll_no\n",
    "            }\n",
    "            Student.__student_data.append(student_info)\n",
    "            return 'Student Information Saved.'\n",
    "        except Exception as e:\n",
    "            return f'Error: {e}'\n",
    "\n",
    "    def get_student(self):\n",
    "        try:\n",
    "            print('---------------------- Student Information -----------------------------')\n",
    "            print('==========================================================================')\n",
    "            for student in Student.__student_data:\n",
    "                print(f'|| Name: {student[\"Name\"]} || Age: {student[\"Age\"]} || Roll No.: {student[\"Roll Number\"]} ||')\n",
    "            print('==========================================================================')\n",
    "        except Exception as e:\n",
    "            return f'Error: {e}'\n",
    "\n",
    "    def update_details(self, updated_name: str, updated_age: float, updated_roll_no: int):\n",
    "        try:\n",
    "            # Find and update the student record in __student_data\n",
    "            for student in Student.__student_data:\n",
    "                if student[\"Roll Number\"] == self.__roll_no:\n",
    "                    student[\"Name\"] = updated_name\n",
    "                    student[\"Age\"] = updated_age\n",
    "                    student[\"Roll Number\"] = updated_roll_no\n",
    "                    break\n",
    "            self.__name = updated_name\n",
    "            self.__age = updated_age\n",
    "            self.__roll_no = updated_roll_no\n",
    "            self.get_student()\n",
    "            return 'Student details updated.'\n",
    "        except Exception as e:\n",
    "            return f'Error: {e}'\n",
    "\n",
    "# Create a student instance\n",
    "student1 = Student(name=\"Ajay\", age=25, roll_no=144)\n",
    "student2 = Student(name=\"Mohan\", age=23, roll_no=145)\n",
    "print(student1.set_student()) \n",
    "print(student2.set_student())# Save student information\n",
    "\n",
    "# Update student details\n",
    "print(student1.update_details(updated_name='Vijay', updated_age=24, updated_roll_no=123))\n"
   ]
  },
  {
   "cell_type": "markdown",
   "metadata": {},
   "source": [
    "<h3 style='color: green;'><center>Question 3 <br> Library Management System.</center></h3>"
   ]
  },
  {
   "cell_type": "code",
   "execution_count": 50,
   "metadata": {},
   "outputs": [
    {
     "name": "stdout",
     "output_type": "stream",
     "text": [
      "You have borrowed 1984.\n",
      "You have returned 1984.\n"
     ]
    }
   ],
   "source": [
    "class Book:\n",
    "    def __init__(self, name, author):\n",
    "        self.__name = name\n",
    "        self.__author = author\n",
    "        self.__available = True\n",
    "\n",
    "    def borrow(self):\n",
    "        if self.__available:\n",
    "            self.__available = False\n",
    "            return f'You have borrowed {self.__name}.'\n",
    "        else:\n",
    "            return f'{self.__name} is currently not available.'\n",
    "\n",
    "    def return_book(self):\n",
    "        self.__available = True\n",
    "        return f'You have returned {self.__name}.'\n",
    "\n",
    "    def is_available(self):\n",
    "        return self.__available\n",
    "\n",
    "# Example usage\n",
    "book1 = Book(\"1984\", \"George Orwell\")\n",
    "print(book1.borrow())\n",
    "print(book1.return_book())\n"
   ]
  },
  {
   "cell_type": "markdown",
   "metadata": {},
   "source": [
    "<h3 style='color: green;'><center>Question 4 <br> Banking System.</center></h3>"
   ]
  },
  {
   "cell_type": "code",
   "execution_count": 51,
   "metadata": {},
   "outputs": [
    {
     "name": "stdout",
     "output_type": "stream",
     "text": [
      "Deposited 100. New balance is 100.\n",
      "Withdrew 50. New balance is 50.\n"
     ]
    }
   ],
   "source": [
    "class BankAccount:\n",
    "    def __init__(self, account_number, balance=0):\n",
    "        self.__account_number = account_number\n",
    "        self.__balance = balance\n",
    "\n",
    "    def deposit(self, amount):\n",
    "        self.__balance += amount\n",
    "        return f'Deposited {amount}. New balance is {self.__balance}.'\n",
    "\n",
    "    def withdraw(self, amount):\n",
    "        if amount <= self.__balance:\n",
    "            self.__balance -= amount\n",
    "            return f'Withdrew {amount}. New balance is {self.__balance}.'\n",
    "        else:\n",
    "            return 'Insufficient funds.'\n",
    "\n",
    "    def check_balance(self):\n",
    "        return self.__balance\n",
    "\n",
    "class SavingsAccount(BankAccount):\n",
    "    def __init__(self, account_number, balance=0, interest_rate=0.01):\n",
    "        super().__init__(account_number, balance)\n",
    "        self.interest_rate = interest_rate\n",
    "\n",
    "class CheckingAccount(BankAccount):\n",
    "    def __init__(self, account_number, balance=0, overdraft_limit=500):\n",
    "        super().__init__(account_number, balance)\n",
    "        self.overdraft_limit = overdraft_limit\n",
    "\n",
    "# Example usage\n",
    "savings = SavingsAccount(\"12345\")\n",
    "print(savings.deposit(100))\n",
    "print(savings.withdraw(50))\n"
   ]
  },
  {
   "cell_type": "markdown",
   "metadata": {},
   "source": [
    "<h3 style='color: green;'><center>Question 5 <br> Animal and Sound</center></h3>"
   ]
  },
  {
   "cell_type": "code",
   "execution_count": 52,
   "metadata": {},
   "outputs": [
    {
     "name": "stdout",
     "output_type": "stream",
     "text": [
      "Meow\n",
      "Woof\n"
     ]
    }
   ],
   "source": [
    "class Animal:\n",
    "    def make_sound(self):\n",
    "        raise NotImplementedError(\"Subclass must implement abstract method\")\n",
    "\n",
    "class Cat(Animal):\n",
    "    def make_sound(self):\n",
    "        return \"Meow\"\n",
    "\n",
    "class Dog(Animal):\n",
    "    def make_sound(self):\n",
    "        return \"Woof\"\n",
    "\n",
    "# Example usage\n",
    "cat = Cat()\n",
    "dog = Dog()\n",
    "print(cat.make_sound())\n",
    "print(dog.make_sound())\n"
   ]
  },
  {
   "cell_type": "markdown",
   "metadata": {},
   "source": [
    "<h3 style='color: green;'><center>Question 6 <br>Restaurant System.</center></h3>"
   ]
  },
  {
   "cell_type": "code",
   "execution_count": 53,
   "metadata": {},
   "outputs": [
    {
     "name": "stdout",
     "output_type": "stream",
     "text": [
      "Burger 500\n",
      "Coke 500ml\n"
     ]
    }
   ],
   "source": [
    "class MenuItem:\n",
    "    def __init__(self, name, price, description, category):\n",
    "        self.name = name\n",
    "        self.price = price\n",
    "        self.description = description\n",
    "        self.category = category\n",
    "\n",
    "class FoodItem(MenuItem):\n",
    "    def __init__(self, name, price, description, category, calories):\n",
    "        super().__init__(name, price, description, category)\n",
    "        self.calories = calories\n",
    "\n",
    "class BeverageItem(MenuItem):\n",
    "    def __init__(self, name, price, description, category, volume):\n",
    "        super().__init__(name, price, description, category)\n",
    "        self.volume = volume\n",
    "\n",
    "# Example usage\n",
    "food = FoodItem(\"Burger\", 5.99, \"Delicious beef burger\", \"Food\", 500)\n",
    "beverage = BeverageItem(\"Coke\", 1.99, \"Refreshing cola drink\", \"Beverage\", \"500ml\")\n",
    "print(food.name, food.calories)\n",
    "print(beverage.name, beverage.volume)\n"
   ]
  },
  {
   "cell_type": "markdown",
   "metadata": {},
   "source": [
    "<h3 style='color: green;'><center>Question 7 <br> Hotel Management System</center></h3>"
   ]
  },
  {
   "cell_type": "code",
   "execution_count": 54,
   "metadata": {},
   "outputs": [
    {
     "name": "stdout",
     "output_type": "stream",
     "text": [
      "Room 101 has been booked.\n",
      "Checked in to room 101.\n",
      "Checked out of room 101.\n"
     ]
    }
   ],
   "source": [
    "class Room:\n",
    "    def __init__(self, room_no, room_type):\n",
    "        self.__room_no = room_no\n",
    "        self.room_type = room_type\n",
    "        self.__available = True\n",
    "\n",
    "    def book_room(self):\n",
    "        if self.__available:\n",
    "            self.__available = False\n",
    "            return f'Room {self.__room_no} has been booked.'\n",
    "        else:\n",
    "            return 'Room is not available.'\n",
    "\n",
    "    def check_in(self):\n",
    "        if not self.__available:\n",
    "            return f'Checked in to room {self.__room_no}.'\n",
    "        else:\n",
    "            return 'Room is not booked.'\n",
    "\n",
    "    def check_out(self):\n",
    "        self.__available = True\n",
    "        return f'Checked out of room {self.__room_no}.'\n",
    "\n",
    "class SuiteRoom(Room):\n",
    "    def __init__(self, room_no):\n",
    "        super().__init__(room_no, \"Suite\")\n",
    "\n",
    "class StandardRoom(Room):\n",
    "    def __init__(self, room_no):\n",
    "        super().__init__(room_no, \"Standard\")\n",
    "\n",
    "# Example usage\n",
    "suite = SuiteRoom(101)\n",
    "print(suite.book_room())\n",
    "print(suite.check_in())\n",
    "print(suite.check_out())\n"
   ]
  },
  {
   "cell_type": "markdown",
   "metadata": {},
   "source": [
    "<h3 style='color: green;'><center>Question 8 <br> Fitness Club Management</center></h3>"
   ]
  },
  {
   "cell_type": "code",
   "execution_count": 55,
   "metadata": {},
   "outputs": [
    {
     "name": "stdout",
     "output_type": "stream",
     "text": [
      "Member Alice registered with status Active.\n",
      "Membership for Alice renewed.\n"
     ]
    }
   ],
   "source": [
    "class Member:\n",
    "    def __init__(self, name, age, membership_type):\n",
    "        self.name = name\n",
    "        self.age = age\n",
    "        self.membership_type = membership_type\n",
    "        self.__status = \"Active\"\n",
    "        self.__member_id = id(self)\n",
    "\n",
    "    def register(self):\n",
    "        return f'Member {self.name} registered with status {self.__status}.'\n",
    "\n",
    "    def renew(self):\n",
    "        self.__status = \"Renewed\"\n",
    "        return f'Membership for {self.name} renewed.'\n",
    "\n",
    "    def cancel(self):\n",
    "        self.__status = \"Cancelled\"\n",
    "        return f'Membership for {self.name} cancelled.'\n",
    "\n",
    "class FamilyMember(Member):\n",
    "    def __init__(self, name, age, membership_type, family_count):\n",
    "        super().__init__(name, age, membership_type)\n",
    "        self.family_count = family_count\n",
    "\n",
    "class IndividualMember(Member):\n",
    "    def __init__(self, name, age, membership_type):\n",
    "        super().__init__(name, age, membership_type)\n",
    "\n",
    "# Example usage\n",
    "member1 = IndividualMember(\"Alice\", 30, \"Gold\")\n",
    "print(member1.register())\n",
    "print(member1.renew())\n"
   ]
  },
  {
   "cell_type": "markdown",
   "metadata": {},
   "source": [
    "<h3 style='color: green;'><center>Question 9 <br> Event Management</center></h3>"
   ]
  },
  {
   "cell_type": "code",
   "execution_count": 56,
   "metadata": {},
   "outputs": [
    {
     "name": "stdout",
     "output_type": "stream",
     "text": [
      "Event Birthday Party created.\n",
      "John added to Birthday Party.\n",
      "['John']\n"
     ]
    }
   ],
   "source": [
    "class Event:\n",
    "    def __init__(self, name, date, time, location):\n",
    "        self.name = name\n",
    "        self.date = date\n",
    "        self.time = time\n",
    "        self.location = location\n",
    "        self.__attendees = []\n",
    "        self.__event_id = id(self)\n",
    "\n",
    "    def create_event(self):\n",
    "        return f'Event {self.name} created.'\n",
    "\n",
    "    def add_attendee(self, attendee):\n",
    "        self.__attendees.append(attendee)\n",
    "        return f'{attendee} added to {self.name}.'\n",
    "\n",
    "    def remove_attendee(self, attendee):\n",
    "        self.__attendees.remove(attendee)\n",
    "        return f'{attendee} removed from {self.name}.'\n",
    "\n",
    "    def get_attendees(self):\n",
    "        return self.__attendees\n",
    "\n",
    "class PrivateEvent(Event):\n",
    "    def __init__(self, name, date, time, location, invite_only):\n",
    "        super().__init__(name, date, time, location)\n",
    "        self.invite_only = invite_only\n",
    "\n",
    "class PublicEvent(Event):\n",
    "    def __init__(self, name, date, time, location, max_capacity):\n",
    "        super().__init__(name, date, time, location)\n",
    "        self.max_capacity = max_capacity\n",
    "\n",
    "# Example usage\n",
    "event = PrivateEvent(\"Birthday Party\", \"2024-08-10\", \"18:00\", \"My House\", True)\n",
    "print(event.create_event())\n",
    "print(event.add_attendee(\"John\"))\n",
    "print(event.get_attendees())\n"
   ]
  },
  {
   "cell_type": "markdown",
   "metadata": {},
   "source": [
    "<h3 style='color: green;'><center>Question 10 <br> Airline Reservation</center></h3>"
   ]
  },
  {
   "cell_type": "code",
   "execution_count": 57,
   "metadata": {},
   "outputs": [
    {
     "name": "stdout",
     "output_type": "stream",
     "text": [
      "Seat booked.\n",
      "99\n"
     ]
    }
   ],
   "source": [
    "class Flight:\n",
    "    def __init__(self, flight_number, departure_airport, arrival_airport, departure_time, arrival_time):\n",
    "        self.flight_number = flight_number\n",
    "        self.departure_airport = departure_airport\n",
    "        self.arrival_airport = arrival_airport\n",
    "        self.departure_time = departure_time\n",
    "        self.arrival_time = arrival_time\n",
    "        self.__seats_available = 100\n",
    "        self.__flight_id = id(self)\n",
    "\n",
    "    def book_seat(self):\n",
    "        if self.__seats_available > 0:\n",
    "            self.__seats_available -= 1\n",
    "            return 'Seat booked.'\n",
    "        else:\n",
    "            return 'No seats available.'\n",
    "\n",
    "    def cancel_seat(self):\n",
    "        self.__seats_available += 1\n",
    "        return 'Booking cancelled.'\n",
    "\n",
    "    def get_seats_available(self):\n",
    "        return self.__seats_available\n",
    "\n",
    "class DomesticFlight(Flight):\n",
    "    def __init__(self, flight_number, departure_airport, arrival_airport, departure_time, arrival_time, in_flight_meal):\n",
    "        super().__init__(flight_number, departure_airport, arrival_airport, departure_time, arrival_time)\n",
    "        self.in_flight_meal = in_flight_meal\n",
    "\n",
    "class InternationalFlight(Flight):\n",
    "    def __init__(self, flight_number, departure_airport, arrival_airport, departure_time, arrival_time, visa_required):\n",
    "        super().__init__(flight_number, departure_airport, arrival_airport, departure_time, arrival_time)\n",
    "        self.visa_required = visa_required\n",
    "\n",
    "# Example usage\n",
    "flight1 = DomesticFlight(\"DL123\", \"JFK\", \"LAX\", \"10:00\", \"13:00\", True)\n",
    "print(flight1.book_seat())\n",
    "print(flight1.get_seats_available())\n"
   ]
  }
 ],
 "metadata": {
  "kernelspec": {
   "display_name": "base",
   "language": "python",
   "name": "python3"
  },
  "language_info": {
   "codemirror_mode": {
    "name": "ipython",
    "version": 3
   },
   "file_extension": ".py",
   "mimetype": "text/x-python",
   "name": "python",
   "nbconvert_exporter": "python",
   "pygments_lexer": "ipython3",
   "version": "3.11.7"
  }
 },
 "nbformat": 4,
 "nbformat_minor": 2
}
