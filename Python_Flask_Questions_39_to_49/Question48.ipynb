{
 "cells": [
  {
   "cell_type": "markdown",
   "metadata": {},
   "source": [
    "<h1><center>Question 48</center></centet></h1>\n",
    "How would you deploy a flask aaplication in production server using Gunicorn and Nginx?"
   ]
  },
  {
   "cell_type": "markdown",
   "metadata": {},
   "source": [
    "Deploying a Flask application in a production environment typically involves using Gunicorn as the WSGI server and Nginx as a reverse proxy server."
   ]
  },
  {
   "cell_type": "markdown",
   "metadata": {},
   "source": [
    "# 1. Prepare Your Flask Application"
   ]
  },
  {
   "cell_type": "markdown",
   "metadata": {},
   "source": [
    "1. Install Necessary Packages: Make sure your Flask application and required dependencies are installed. Use a virtual environment to manage dependencies.\n",
    "\n",
    "2. Configure Flask Application: Set up your Flask application (app.py) with necessary routes, configurations, and any required settings.\n",
    "\n",
    "3. Ensure Production Readiness: Configure your Flask application for production, including updating debug settings, configuring logging, and ensuring proper error handling.\n"
   ]
  },
  {
   "cell_type": "markdown",
   "metadata": {},
   "source": [
    "# 2. Install Gunicorn\n",
    "\n",
    "Use pip to install Gunicorn: pip install gunicorn\n"
   ]
  },
  {
   "cell_type": "markdown",
   "metadata": {},
   "source": [
    "# 3. Run Gunicorn\n",
    "Run Gunicorn:\n",
    "Start Gunicorn to serve your Flask application (app.py):-  sh  \n",
    "gunicorn -w 4 -b 127.0.0.1:8000 app:app\n",
    "\n",
    "- -w 4: Number of worker processes (adjust as per your server's CPU cores and workload).\n",
    "- -b 127.0.0.1:8000: Bind address and port to listen on.\n",
    "- app:app: Module name (app.py) and Flask application instance (app)."
   ]
  },
  {
   "cell_type": "markdown",
   "metadata": {},
   "source": [
    "# 4. Install and Configure Nginx\n",
    "\n",
    "- Install Nginx:\n",
    "sudo apt update\n",
    "sudo apt install nginx\n",
    "\n",
    "- Configure Nginx:\n",
    "sudo nano /etc/nginx/sites-available/myapp\n",
    "\n",
    "\n"
   ]
  },
  {
   "cell_type": "markdown",
   "metadata": {},
   "source": [
    "<pre><code>\n",
    "server {\n",
    "    listen 80;\n",
    "    server_name example.com;\n",
    "\n",
    "    location / {\n",
    "        proxy_pass http://127.0.0.1:8000;  # Match the Gunicorn bind address\n",
    "        proxy_set_header Host $host;\n",
    "        proxy_set_header X-Real-IP $remote_addr;\n",
    "        proxy_set_header X-Forwarded-For $proxy_add_x_forwarded_for;\n",
    "        proxy_set_header X-Forwarded-Proto $scheme;\n",
    "    }\n",
    "\n",
    "    location /static {\n",
    "        alias /path/to/your/app/static;  # Path to your Flask app's static folder\n",
    "    }\n",
    "\n",
    "    location /uploads {\n",
    "        alias /path/to/your/app/uploads;  # Path to your Flask app's upload folder\n",
    "    }\n",
    "}\n",
    "</code></pre>"
   ]
  },
  {
   "cell_type": "markdown",
   "metadata": {},
   "source": [
    "Enable the Nginx configuration by creating a symbolic link: <br>\n",
    "sudo ln -s /etc/nginx/sites-available/myapp /etc/nginx/sites-enabled/\n"
   ]
  },
  {
   "cell_type": "markdown",
   "metadata": {},
   "source": [
    "# 5. Test Nginx Configuration\n",
    "- Check for any syntax errors in the Nginx configuration: sudo nginx -t\n",
    "- If there are no errors, reload Nginx to apply the new configuration: sudo systemctl reload nginx\n",
    "\n",
    " "
   ]
  }
 ],
 "metadata": {
  "kernelspec": {
   "display_name": "base",
   "language": "python",
   "name": "python3"
  },
  "language_info": {
   "name": "python",
   "version": "3.11.9"
  }
 },
 "nbformat": 4,
 "nbformat_minor": 2
}
