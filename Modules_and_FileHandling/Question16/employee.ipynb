{
 "cells": [
  {
   "cell_type": "markdown",
   "metadata": {},
   "source": [
    "<h3 style='color: green;'><center>Question 16</center></h3>\n",
    "Write a python program to create a txt file named 'employee.txt' and write the details of employees."
   ]
  },
  {
   "cell_type": "code",
   "execution_count": 1,
   "metadata": {},
   "outputs": [],
   "source": [
    "# Create employee.txt\n",
    "employee_data = \"\"\"\\\n",
    "EmployeeID,Name,Position,Department,Salary\n",
    "101,John Doe,Software Engineer,IT,70000\n",
    "102,Jane Smith,Project Manager,IT,85000\n",
    "103,Emily Davis,Designer,Marketing,60000\n",
    "104,Michael Brown,Data Analyst,Finance,65000\n",
    "105,Linda White,HR Manager,Human Resources,75000\n",
    "\"\"\"\n",
    "\n",
    "with open('employee.txt', 'w') as file:\n",
    "    file.write(employee_data)"
   ]
  }
 ],
 "metadata": {
  "kernelspec": {
   "display_name": "base",
   "language": "python",
   "name": "python3"
  },
  "language_info": {
   "codemirror_mode": {
    "name": "ipython",
    "version": 3
   },
   "file_extension": ".py",
   "mimetype": "text/x-python",
   "name": "python",
   "nbconvert_exporter": "python",
   "pygments_lexer": "ipython3",
   "version": "3.11.7"
  }
 },
 "nbformat": 4,
 "nbformat_minor": 2
}
