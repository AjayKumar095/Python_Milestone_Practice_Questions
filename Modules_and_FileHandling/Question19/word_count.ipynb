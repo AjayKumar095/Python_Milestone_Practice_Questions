{
 "cells": [
  {
   "cell_type": "markdown",
   "metadata": {},
   "source": [
    "<h3 style='color: green;'><center>Question 19</center></h3>\n",
    "Create a python program that reads a text file named 'paragraph.txt'  and counts the occurrence of each word and display them in alphsbetical order."
   ]
  },
  {
   "cell_type": "code",
   "execution_count": 1,
   "metadata": {},
   "outputs": [
    {
     "name": "stdout",
     "output_type": "stream",
     "text": [
      "a: 1\n",
      "alphabetical: 1\n",
      "and: 2\n",
      "count: 1\n",
      "display: 1\n",
      "each: 1\n",
      "for: 1\n",
      "in: 1\n",
      "is: 2\n",
      "occurrence: 1\n",
      "of: 1\n",
      "order: 1\n",
      "paragraph: 3\n",
      "python: 1\n",
      "read: 1\n",
      "sample: 1\n",
      "testing: 1\n",
      "the: 1\n",
      "them: 1\n",
      "this: 3\n",
      "to: 1\n",
      "try: 1\n",
      "using: 1\n",
      "we: 1\n",
      "word: 1\n"
     ]
    }
   ],
   "source": [
    "from collections import Counter\n",
    "import re\n",
    "\n",
    "# Read the paragraph from the file\n",
    "with open('paragraph.txt', 'r') as file:\n",
    "    paragraph = file.read()\n",
    "\n",
    "# Normalize the text by converting it to lowercase and removing punctuation\n",
    "normalized_paragraph = re.sub(r'[^\\w\\s]', '', paragraph.lower())\n",
    "\n",
    "# Split the text into words\n",
    "words = normalized_paragraph.split()\n",
    "\n",
    "# Count the occurrences of each word\n",
    "word_counts = Counter(words)\n",
    "\n",
    "# Sort the words alphabetically and display the counts\n",
    "for word in sorted(word_counts):\n",
    "    print(f'{word}: {word_counts[word]}')\n"
   ]
  }
 ],
 "metadata": {
  "kernelspec": {
   "display_name": "base",
   "language": "python",
   "name": "python3"
  },
  "language_info": {
   "codemirror_mode": {
    "name": "ipython",
    "version": 3
   },
   "file_extension": ".py",
   "mimetype": "text/x-python",
   "name": "python",
   "nbconvert_exporter": "python",
   "pygments_lexer": "ipython3",
   "version": "3.11.7"
  }
 },
 "nbformat": 4,
 "nbformat_minor": 2
}
