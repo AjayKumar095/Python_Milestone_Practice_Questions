{
 "cells": [
  {
   "cell_type": "markdown",
   "metadata": {},
   "source": [
    "<h3 style='color: green;'><center>Question 17</center></h3>\n",
    "Create a python script that opne an existing file named 'inventory.txt' in read mode and display the content line by line"
   ]
  },
  {
   "cell_type": "code",
   "execution_count": 12,
   "metadata": {},
   "outputs": [
    {
     "name": "stdout",
     "output_type": "stream",
     "text": [
      "ItemID,ItemName,Category,Quantity,Price\n",
      "001,Laptop,Electronics,50,800\n",
      "002,Office Chair,Furniture,200,120\n",
      "003,Notebook,Stationery,500,5\n",
      "004,Printer,Electronics,30,150\n",
      "005,Desk,Furniture,100,200\n"
     ]
    }
   ],
   "source": [
    "## example\n",
    "with open('inventory.txt', 'r') as file:\n",
    "    content=file.readlines()\n",
    "for line in content:\n",
    "    print(line.removesuffix('\\n')) \n",
    "      "
   ]
  }
 ],
 "metadata": {
  "kernelspec": {
   "display_name": "base",
   "language": "python",
   "name": "python3"
  },
  "language_info": {
   "codemirror_mode": {
    "name": "ipython",
    "version": 3
   },
   "file_extension": ".py",
   "mimetype": "text/x-python",
   "name": "python",
   "nbconvert_exporter": "python",
   "pygments_lexer": "ipython3",
   "version": "3.11.7"
  }
 },
 "nbformat": 4,
 "nbformat_minor": 2
}
