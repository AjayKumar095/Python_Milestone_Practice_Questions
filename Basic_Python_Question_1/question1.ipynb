{
 "cells": [
  {
   "cell_type": "markdown",
   "metadata": {},
   "source": [
    "<h1 style='color: green;'><center>Question 1.1</center></h1>\n"
   ]
  },
  {
   "cell_type": "markdown",
   "metadata": {},
   "source": [
    "<h3>Q1.1.1 What is the difference between static and dynamic variables in Python?</h3>\n",
    "<p>Answer:</p>\n",
    "<ul>\n",
    "<li><strong>Static Variables:</strong> This type of variable does not change its value durning runing the program and hold static values or constant values. </li>\n",
    "<li><strong>Dynamic Variables:</strong> This type of variable change its value durning the program run and can hold variable values.</li>\n",
    "</ul>\n",
    "<p><b>Example:</b></p>\n",
    "<pre>\n",
    "<code>\n",
    "a=5\n",
    "b=10\n",
    "c=a+b\n",
    "print(c)\n",
    "</code>\n",
    "</pre>\n",
    "<p><b>In the above example a and b are static variable that have a fixed or constant value but c take dynamic value as depend on a and b.</b></p>"
   ]
  },
  {
   "cell_type": "markdown",
   "metadata": {},
   "source": [
    "<h3>Q1.1.2 Explain the purpose of \"pop\", \"popitem\", \"clear()\" in a dictionary with sutiable example.</h3>\n",
    "<p><b>Answer</b></p>\n",
    "<ul>\n",
    "<li><b>pop</b> This method is used to find the value of any key in dict. It take one arrgunment as key name and give the corresponding value.</li>\n",
    "<li><b>popitem</b> This method is return the last key value pair for the dictionary. It take zero positional arrgunment.</li>\n",
    "<li><b>clear()</b> This method is used to clear all the content from the dictionary.</li>\n",
    "</ul>"
   ]
  },
  {
   "cell_type": "code",
   "execution_count": null,
   "metadata": {},
   "outputs": [],
   "source": [
    "## Examples\n",
    "## \"pop\", \"popitem\", \"clear()\" in dictionary.\n",
    "\n",
    "sample_dict={\"A\":1, \"B\": 2, \"C\":3, \"D\":4, \"E\":5, \"F\":6}\n",
    "\n",
    "print(\"Using pop method on dict, :pop:-\", sample_dict.pop(\"A\"))\n",
    "print(\"Using popitem method on dict, popitem:- \",sample_dict.popitem())\n",
    "print(\"Clearing all value from the dict by using clear method:- \",sample_dict.clear())\n",
    "print('End result after clearing dict:- ', sample_dict)"
   ]
  },
  {
   "cell_type": "markdown",
   "metadata": {},
   "source": [
    "<h3>Q1.1.3 What do you mean by FrozenSet? Explain it with suitable example.</h3>\n",
    "<p><b>Answer:</b></p>\n",
    "<p>In Python, a FrozenSet is an immutable (unchangeable) set. Once a FrozenSet is created, its contents cannot be modified. It's like a set that's \"frozen\" in place.</p>\n",
    "<p><b>Example:-</b></p>\n",
    "<pre><code>\n",
    "my_set = {1, 2, 3, 4, 5}  \n",
    "my_frozenset = frozenset(my_set)\n",
    "</code></pre>"
   ]
  },
  {
   "cell_type": "code",
   "execution_count": null,
   "metadata": {},
   "outputs": [],
   "source": [
    "## Example\n",
    "\n",
    "my_set = {1, 2, 3, 4, 5}  # a regular set\n",
    "my_frozenset = frozenset(my_set)  # create a FrozenSet from the set\n",
    "\n",
    "print(my_frozenset)  # Output: frozenset({1, 2, 3, 4, 5})\n",
    "\n",
    "try:\n",
    "   # Try to modify the FrozenSet\n",
    "   my_frozenset.add(6)  # This will raise a TypeError!\n",
    "except Exception as e:\n",
    "    print(e)   \n"
   ]
  },
  {
   "cell_type": "markdown",
   "metadata": {},
   "source": [
    "<h3>Q1.1.4 Differentiate between mutable and immutable data types in python and give example of mutable and immutable data types.</h3>\n",
    "<p><b>Answer</b></p>\n",
    "<p>In Python, data types can be either mutable or immutable.</p>\n",
    "\n",
    "<h3>Mutable Data Types</h3>\n",
    "\n",
    "<p>Mutable data types can be changed or modified after they're created. Examples include: Lists, Dictionaries, Sets.</p>\n",
    "\n",
    "<h3>Immutable Data Types</h3>\n",
    "\n",
    "<p>Immutable data types cannot be changed or modified after they're created. Examples include:  Integers, Floats, strings, tuple, FrozenSets.</p>\n",
    "\n",
    "\n",
    "\n"
   ]
  },
  {
   "cell_type": "code",
   "execution_count": null,
   "metadata": {},
   "outputs": [],
   "source": [
    "# Mutable data types\n",
    "my_list = [1, 2, 3]  # Create a list\n",
    "print(my_list)  # [1, 2, 3]\n",
    "\n",
    "my_list.append(4)  # Modify the list\n",
    "print(my_list)  # [1, 2, 3, 4]\n",
    "\n",
    "my_dict = {\"a\": 1}  # Create a dictionary\n",
    "print(my_dict)  # {\"a\": 1}\n",
    "\n",
    "my_dict[\"b\"] = 2  # Modify the dictionary\n",
    "print(my_dict)  # {\"a\": 1, \"b\": 2}\n",
    "\n",
    "# Immutable data types\n",
    "my_int = 5  # Create an integer\n",
    "print(my_int)  # 5\n",
    "\n",
    "# Try to modify the integer (won't work!)\n",
    "# my_int += 1  # Error!\n",
    "\n",
    "my_str = \"hello\"  # Create a string\n",
    "print(my_str)  # \"hello\"\n",
    "\n",
    "# Try to modify the string (won't work!)\n",
    "# my_str[0] = \"H\"  # Error!\n",
    "\n",
    "my_tuple = (1, 2)  # Create a tuple\n",
    "print(my_tuple)  # (1, 2)\n",
    "\n",
    "# Try to modify the tuple (won't work!)\n",
    "# my_tuple[0] = 3  # Error!\n",
    "\n",
    "my_frozenset = frozenset([1, 2])  # Create a FrozenSet\n",
    "print(my_frozenset)  # frozenset({1, 2})\n",
    "\n",
    "# Try to modify the FrozenSet (won't work!)\n",
    "# my_frozenset.add(3)  # Error!\n"
   ]
  },
  {
   "cell_type": "markdown",
   "metadata": {},
   "source": [
    "<h3>Q1.1.5 What is __init__? Explain with an example.</h3>\n",
    "<p><b>Answer</b></p>\n",
    "<p>In Python, __init__ is a special method that is automatically called when an object of a class is instantiated (created). It's known as a constructor, and its purpose is to initialize the attributes of the class.\n",
    "</p>"
   ]
  },
  {
   "cell_type": "code",
   "execution_count": null,
   "metadata": {},
   "outputs": [],
   "source": [
    "  ## Example\n",
    "\n",
    "class Greet:\n",
    "    def __init__(self, name) -> None:\n",
    "        self.name=name\n",
    "        \n",
    "    def  greet(self):\n",
    "        return f\"Hello, {self.name}\" \n",
    "    \n",
    "print(Greet(name='John').greet())   "
   ]
  },
  {
   "cell_type": "markdown",
   "metadata": {},
   "source": [
    "<h3>Q1.1.6 What is doctstring in Python? Exaplain with example.</h3>\n",
    "<P><b>Answer</b></P>\n",
    "<p>In Python, the doctsting is used to describe the function use, it is also include all the information about the function like how to use it, what this functuion return, what kind of perimeter its take and the type of perimeters. With example how to use this function.</p>"
   ]
  },
  {
   "cell_type": "code",
   "execution_count": null,
   "metadata": {},
   "outputs": [],
   "source": [
    "## Example using docstring\n",
    "\n",
    "def sum(a, b):\n",
    "    \"\"\"_summary_ Docsting for this function.\n",
    "\n",
    "    Args:\n",
    "        a (int, float): 'a' must be any intiger, float value\n",
    "        b (int, float):  'b' must be any intiger, float value\n",
    "\n",
    "    Returns:\n",
    "     sum: this function return the sum of two numbers,\n",
    "    \"\"\"\n",
    "    return a+b\n",
    "\n",
    "print(sum(a=6,b=4.6))"
   ]
  },
  {
   "cell_type": "markdown",
   "metadata": {},
   "source": [
    "<h3>Q1.1.7 What are unit tests in Python?</h3>\n",
    "<p><b>Answer</b></p>\n",
    "<p>Unit tests in Python are small, focused tests that verify the behavior of individual units of code, such as functions or methods. They help ensure that the code works correctly and catch bugs or errors early in the development process.</p>\n"
   ]
  },
  {
   "cell_type": "code",
   "execution_count": 24,
   "metadata": {},
   "outputs": [],
   "source": [
    "## Example \n",
    "\n",
    "import unittest\n",
    "\n",
    "def add(x, y):\n",
    "   return x + y\n",
    "\n",
    "class TestAddFunction(unittest.TestCase):\n",
    "    def test_add_two_positive_numbers(self):\n",
    "       result = add(2, 3)\n",
    "       self.assertEqual(result, 5)\n",
    "\n",
    "    def test_add_two_negative_numbers(self):\n",
    "        result = add(-2, -3)\n",
    "        self.assertEqual(result, -5)\n",
    "\n",
    "if __name__ == 'main':\n",
    "   unittest.main()\n"
   ]
  },
  {
   "cell_type": "markdown",
   "metadata": {},
   "source": [
    "<h3>Q1.1.8 What is break, continue and pass in Python?</h3>\n",
    "<p><b>Answer</b></p>\n",
    "\n",
    "- Break: The break statement is used to exit a loop (such as a for or while loop) immediately, skipping any remaining iterations. It \"breaks out\" of the loop.\n",
    "\n",
    "- Continue: The continue statement is used to skip the current iteration of a loop and move on to the next one. It \"continues\" to the next iteration, skipping any remaining code in the current iteration.\n",
    "\n",
    "- Pass: The pass statement is a \"no-op\" (no operation) that does nothing. It's used as a placeholder when a statement is required syntactically, but no action is needed. It \"passes\" over the current block, doing nothing.\n"
   ]
  },
  {
   "cell_type": "code",
   "execution_count": null,
   "metadata": {},
   "outputs": [],
   "source": [
    "## example:\n",
    "\n",
    "## Break \n",
    "for i in range(1,10):\n",
    "    if i == 5:\n",
    "        break\n",
    "    print(i, end=' ')\n",
    "print(\"Break the loop when i=5\")\n",
    "print('\\n')\n",
    "    \n",
    "## continue\n",
    "for i in range(1,10):\n",
    "    if i == 5:\n",
    "        continue\n",
    "    print(i, end=' ')\n",
    "print(\"Continue the loop but skip 5\")\n",
    "print('\\n')\n",
    "\n",
    "## pass\n",
    "def do_nothing():\n",
    "    pass\n",
    "\n",
    "print(\"This function return (None):-  \",do_nothing())    \n",
    "    "
   ]
  },
  {
   "cell_type": "markdown",
   "metadata": {},
   "source": [
    "<h3>Q1.1.9 What is the use of self in Python?</h3>\n",
    "<p><b>Answer</b></p>\n",
    "<p>In Python, self is a conventionally used parameter name in class methods that refers to the instance of the class itself. It's used to access the attributes and methods of the class.\n",
    "</p>"
   ]
  },
  {
   "cell_type": "markdown",
   "metadata": {},
   "source": [
    "<h3>Q1.1.10 What is global. protected and private attribute in Python?</h3>\n",
    "<p><b>Answer</b></p>\n",
    "In Python, there are no strict access modifiers like public, private, or protected as in other languages. However, there are conventions and ways to indicate the scope and accessibility of attributes (variables and methods) in classes. Here's a brief overview:\n",
    "\n",
    "\n",
    "- Global: Variables defined outside of any function or class are considered global. They can be accessed from anywhere in the code.\n",
    "\n",
    "- Protected (by convention): Attributes prefixed with a single underscore (_) are considered protected. They indicate that the attribute should not be accessed directly from outside the class, but it's not strictly enforced. Example: class MyClass: def __init__(self): self._protected_attr = 10\n",
    "\n",
    "- Private (by convention): Attributes prefixed with double underscores (__ ) are considered private. Python's name mangling feature makes them harder to access from outside the class, but it's not a strict access control. Example: class MyClass: def __init__(self): self.__private_attr = 10\n"
   ]
  },
  {
   "cell_type": "code",
   "execution_count": null,
   "metadata": {},
   "outputs": [],
   "source": [
    "## example\n",
    "\n",
    "global_variable='This is global variable.'\n",
    "class protected_and_private:\n",
    "    \n",
    "    def __init__(self) -> None:\n",
    "        self._protectedVariable=\"This is protected variable\"\n",
    "        self.__privatVariable=\"This is private variable.\"\n",
    "\n",
    "\n",
    "try:\n",
    "    print(\"accessing global variable:\",global_variable)\n",
    "    print(\"accessing protected variable:\", protected_and_private()._protectedVariable)\n",
    "    print(\"accessing global variable:\",protected_and_private().__privatVariable)\n",
    "\n",
    "except Exception as e:\n",
    "    print(\"The private variable return error as: \",e)        "
   ]
  },
  {
   "cell_type": "markdown",
   "metadata": {},
   "source": [
    "<h3>Q1.1.11 What are modules and packages in python?</h3>\n",
    "<p><b>Answer</b></p>\n",
    "In Python, modules and packages are used to organize and reuse code.\n",
    "\n",
    "Modules:\n",
    "\n",
    "- A module is a single file that contains a collection of related code, such as functions, classes, and variables.\n",
    "- Modules are used to organize code into smaller, reusable units.\n",
    "- Modules can be imported into other Python files to use their functions, classes, and variables.\n",
    "- Examples of built-in modules in Python include math, string, and random.\n",
    "\n",
    "Packages:\n",
    "\n",
    "- A package is a directory that contains multiple modules and other packages.\n",
    "- Packages are used to organize related modules into a larger structure.\n",
    "- Packages can be imported just like modules, and their contents can be accessed using the dot notation.\n",
    "- Examples of popular packages in Python include numpy, pandas, and flask.\n"
   ]
  },
  {
   "cell_type": "markdown",
   "metadata": {},
   "source": [
    "<h3>Q1.1.12 What are list and tuples? What is the key difference between the two?</h3>\n",
    "<p><b>Answer</b></p>\n",
    "List:\n",
    "\n",
    "- A list is a collection of items that can be of any data type, including strings, integers, floats, and other lists.\n",
    "- Lists are denoted by square brackets [] and are mutable, meaning they can be modified after creation.\n",
    "- Lists are ordered, meaning the order of the items matters.\n",
    "- Lists can be extended, inserted, deleted, and sorted.\n",
    "\n",
    "Example: my_list = [1, 2, 3, \"hello\", 4.5]\n",
    "\n",
    "Tuple:\n",
    "\n",
    "- A tuple is also a collection of items, similar to a list.\n",
    "- Tuples are denoted by parentheses () and are immutable, meaning they cannot be modified after creation.\n",
    "- Tuples are ordered, just like lists.\n",
    "- Tuples are typically used for small, fixed collections of data that don't need to be changed.\n",
    "\n",
    "Example: my_tuple = (1, 2, 3, \"hello\", 4.5)\n",
    "\n",
    "Key differences:\n",
    "\n",
    "- Mutability: Lists are mutable, while tuples are immutable.\n",
    "- Syntax: Lists use square brackets [], while tuples use parentheses ().\n",
    "- Usage: Lists are generally used for larger, more dynamic collections of data, while tuples are used for smaller, fixed collections.\n"
   ]
  },
  {
   "cell_type": "markdown",
   "metadata": {},
   "source": [
    "<h3>Q1.1.13 What is an Interpreted language and dynamically typed language? Write 5 differences between them?</h3>\n",
    "<p><b>Answer</b></p>\n",
    "Interpreted Language:\n",
    "An interpreted language is a programming language that does not require compilation into machine code beforehand. Instead, the code is interpreted line by line by an interpreter at runtime. Examples: Python, JavaScript, Ruby.\n",
    "\n",
    "Dynamically Typed Language:\n",
    "A dynamically typed language is a language that does not require explicit type definitions for variables. The data type of a variable is determined at runtime, rather than at compile time. Examples: Python, JavaScript, Ruby.\n",
    "\n",
    "5 differences between Interpreted and Dynamically Typed languages:\n",
    "\n",
    "1. Compilation: Interpreted languages don't require compilation, while dynamically typed languages may or may not require compilation (e.g., Python is interpreted, but JavaScript can be compiled or interpreted).\n",
    "\n",
    "2. Type Checking: Interpreted languages often have runtime type checking, while dynamically typed languages have no explicit type checking (though some may have optional type hints).\n",
    "\n",
    "3. Variable Declaration: In interpreted languages, variables are often declared implicitly, while in dynamically typed languages, variables are declared without explicit type annotations.\n",
    "\n",
    "4. Error Handling: Interpreted languages typically raise errors at runtime, while dynamically typed languages may raise errors at runtime or have optional type checks to catch errors earlier.\n",
    "\n",
    "5. Code Structure: Interpreted languages often have more flexible code structure, with features like eval() and exec(), while dynamically typed languages may have more flexible data structures and object-oriented programming capabilities.\n"
   ]
  },
  {
   "cell_type": "markdown",
   "metadata": {},
   "source": [
    "<h3>Q1.1.14 What are Dict and list comprehensions?</h3>\n",
    "<p><b>Answer</b></p>\n",
    "In Python, dict and list comprehensions are concise ways to create dictionaries and lists, respectively, using a compact syntax.\n",
    "\n",
    "- Dict Comprehension:\n",
    "A dict comprehension creates a new dictionary from an iterable (like a list or another dictionary) using a key-value pairing syntax.\n",
    "\n",
    "- List Comprehension:\n",
    "A list comprehension creates a new list from an iterable using a concise syntax.\n",
    "\n",
    "\n",
    "Both comprehensions consist of:\n",
    "1. An input iterable (numbers in the examples)\n",
    "2. A variable representing each element (x in the examples)\n",
    "3. An expression using the variable (x**2 in the examples)\n",
    "4. An optional condition (not shown in the examples)\n",
    "\n"
   ]
  },
  {
   "cell_type": "code",
   "execution_count": null,
   "metadata": {},
   "outputs": [],
   "source": [
    "# Examples: Dict\n",
    "numbers = [1, 2, 3, 4, 5]\n",
    "squares = {x: x**2 for x in numbers}\n",
    "print(squares)  # Output: {1: 1, 2: 4, 3: 9, 4: 16, 5: 25}\n",
    "\n",
    "\n",
    "# Example: List \n",
    "\n",
    "numbers = [1, 2, 3, 4, 5]\n",
    "squares = [x**2 for x in numbers]\n",
    "print(squares)  # Output: [1, 4, 9, 16, 25]\n"
   ]
  },
  {
   "cell_type": "markdown",
   "metadata": {},
   "source": [
    "<h3>Q1.1.15 What are decorators in Python? Explain it with an example. Write down its use case?</h3>\n",
    "<p><b>Answer</b></p>\n",
    "In Python, a decorator is a special type of function that can modify or extend the behavior of another function. A decorator is a small function that takes another function as an argument and returns a new function that \"wraps\" the original function. The wrapping function can add new functionality, modify the original behavior, or even completely replace the original function.\n",
    "\n",
    "## Use cases:\n",
    "\n",
    "1. Logging: Decorators can be used to log information before and after a function is called.\n",
    "2. Authentication: Decorators can be used to check if a user is authenticated before allowing them to access a function.\n",
    "3. Caching: Decorators can be used to cache the results of a function so that it doesn't need to be called multiple times.\n",
    "4. Error handling: Decorators can be used to catch and handle errors in a function.\n",
    "5. AOP (Aspect-Oriented Programming): Decorators can be used to implement aspects, such as logging, security, or caching, that cut across multiple functions.\n",
    "6. Registering functions: Decorators can be used to register functions in a registry or a pipeline.\n",
    "7. Modifying function behavior: Decorators can be used to modify the behavior of a function, such as adding or removing functionality.\n"
   ]
  },
  {
   "cell_type": "code",
   "execution_count": null,
   "metadata": {},
   "outputs": [],
   "source": [
    "# Example\n",
    "\n",
    "def my_decorator(func):\n",
    "    def wrapper():\n",
    "        print(\"Something is happening before the function is called.\")\n",
    "        func()\n",
    "        print(\"Something is happening after the function is called.\")\n",
    "    return wrapper\n",
    "\n",
    "@my_decorator\n",
    "def say_hello():\n",
    "    print(\"Hello!\")\n",
    "\n",
    "say_hello()\n"
   ]
  },
  {
   "cell_type": "markdown",
   "metadata": {},
   "source": [
    "<h3>Q1.1.16 How is memory managed in Python?</h3>\n",
    "<p><b>Answer</b></p>\n",
    "Memory management in Python is handled automatically by the Python Memory Manager, also known as the Private Heap. Here's a simplified overview:\n",
    "\n",
    "1. Memory Allocation: When you create an object in Python (e.g., a list, string, or integer), the Memory Manager allocates a block of memory to store that object.\n",
    "\n",
    "2. Reference Counting: Python uses a technique called Reference Counting to manage memory. Each object has a reference count, which indicates how many variables or objects are referencing it.\n",
    "\n",
    "3. Garbage Collection: When the reference count of an object reaches zero (i.e., no variables or objects are referencing it), the object is considered garbage and its memory is reclaimed by the Memory Manager. This process is called Garbage Collection.\n",
    "\n",
    "4. Free List: The Memory Manager maintains a Free List, a pool of free memory blocks that can be used to allocate new objects.\n"
   ]
  },
  {
   "cell_type": "markdown",
   "metadata": {},
   "source": [
    "<h3>Q1.1.17 What is lambda in Python? Why is it use?</h3>\n",
    "<p><b>Answer</b></p>\n",
    "In Python, lambda is a keyword used to create small, anonymous functions, also known as lambda functions or closures. A lambda function is a concise way to define a function without a name, using the lambda keyword.\n",
    "<pre><code>\n",
    "The general syntax is:\n",
    "\n",
    "lambda arguments: expression\n",
    "</code></pre>\n",
    "Lambda functions are used:\n",
    "\n",
    "1. As event handlers: Lambda functions can be used as event handlers, such as button clicks or mouse movements.\n",
    "2. In data processing: Lambda functions can be used to perform data transformations, filtering, or mapping.\n",
    "3. As higher-order functions: Lambda functions can be passed as arguments to other functions or returned as values from functions.\n",
    "4. In functional programming: Lambda functions are used extensively in functional programming techniques, such as map, filter, and reduce.\n",
    "5. For conciseness: Lambda functions can make code more concise and readable by avoiding the need for a separate function definition.\n",
    "\n"
   ]
  },
  {
   "cell_type": "code",
   "execution_count": null,
   "metadata": {},
   "outputs": [],
   "source": [
    "## Example \n",
    "\n",
    "sqr= lambda x: x*x\n",
    "\n",
    "sample_list=[1,2,3,4,5]\n",
    "\n",
    "## Using lambda function in list elements\n",
    "result=[sqr(i) for i in sample_list]\n",
    "print(\"List elements after applying lambda function:\", result)"
   ]
  },
  {
   "cell_type": "markdown",
   "metadata": {},
   "source": [
    "<h3>Q1.1.18 Explain split(), and join() function in Python?</h3>\n",
    "<p><b>Answer</b></p>\n",
    "In Python, split() and join() are two essential string functions that help you manipulate text.\n",
    "\n",
    "- The split() function splits a string into a list of substrings, separating them by a specified delimiter.\n",
    "- The join() function concatenates a list of strings into a single string, using a specified separator.\n"
   ]
  },
  {
   "cell_type": "code",
   "execution_count": null,
   "metadata": {},
   "outputs": [],
   "source": [
    "## Example\n",
    "my_string = \"hello,world,python,is,awesome\"\n",
    "words = my_string.split(\",\")\n",
    "print(words)  # Output: [\"hello\", \"world\", \"python\", \"is\", \"awesome\"]\n",
    "\n",
    "words = [\"hello\", \"world\", \"python\", \"is\", \"awesome\"]\n",
    "my_string = \",\".join(words)\n",
    "print(my_string)  # Output: \"hello,world,python,is,awesome\"\n"
   ]
  },
  {
   "cell_type": "markdown",
   "metadata": {},
   "source": [
    "<h3>Q1.1.19 What are iterators, iterable and generators in Python?</h3>\n",
    "<p><b>Answer</b></p>\n",
    "\n",
    "# Iterable:\n",
    "\n",
    "An iterable is an object that can be iterated over, meaning you can access its elements one by one. Examples of iterables include lists, tuples, strings, dictionaries, and sets.\n",
    "\n",
    "# Iterator:\n",
    "\n",
    "An iterator is an object that keeps track of its position in an iterable and yields the next element on each iteration. You can create an iterator using the iter() function.\n",
    "\n",
    "# Generator:\n",
    "\n",
    "A generator is a special type of iterator that generates values on the fly, rather than storing them in memory. Generators are defined using a function with a yield statement.\n",
    "\n",
    "\n",
    "\n"
   ]
  },
  {
   "cell_type": "code",
   "execution_count": null,
   "metadata": {},
   "outputs": [],
   "source": [
    "# Example\n",
    "\n",
    "# Iterable\n",
    "my_list = [1, 2, 3, 4, 5]\n",
    "for element in my_list:\n",
    "    print(element)\n",
    "    \n",
    "# Iterator\n",
    "my_list = [1, 2, 3, 4, 5]\n",
    "my_iterator = iter(my_list)\n",
    "print(next(my_iterator))  # prints 1\n",
    "print(next(my_iterator))  # prints 2\n",
    "\n",
    "# Generator\n",
    "def my_generator():\n",
    "    yield 1\n",
    "    yield 2\n",
    "    yield 3\n",
    "\n",
    "for element in my_generator():\n",
    "    print(element)\n",
    "    \n"
   ]
  },
  {
   "cell_type": "markdown",
   "metadata": {},
   "source": [
    "<h3>Q1.1.20 What is the difference between xrange and range in python?</h3>\n",
    "<p><b>Answer</b></p>\n",
    "Range:\n",
    "\n",
    "- Returns a generator object that generates numbers on the fly\n",
    "- Does not store the entire sequence in memory\n",
    "- Efficient for large ranges\n",
    "- Can be used in for loops, list comprehensions, and other iterations\n",
    "\n",
    "xrange:\n",
    "\n",
    "- Returns an xrange object, which is an iterator\n",
    "- Also generates numbers on the fly, but with some extra features\n",
    "- More memory-efficient than range for large ranges\n",
    "- Can be used in for loops and other iterations, but not in list comprehensions\n",
    "\n"
   ]
  },
  {
   "cell_type": "markdown",
   "metadata": {},
   "source": [
    "<h3>Q1.1.21 Pillars of Oops.</h3>\n",
    "<p><B>Answer</B></p>\n",
    "The four pillars of Object-Oriented Programming (OOPs) are:\n",
    "\n",
    "1. Abstraction: Showing only the necessary information to the outside world, hiding the implementation details.\n",
    "\n",
    "2. Encapsulation: Binding data and methods that manipulate that data into a single unit (class or object).\n",
    "\n",
    "3. Inheritance: Creating a new class based on an existing class, inheriting its properties and behavior.\n",
    "\n",
    "4. Polymorphism: Ability of an object to take on multiple forms, depending on the context (method overloading, method overriding).\n"
   ]
  },
  {
   "cell_type": "markdown",
   "metadata": {},
   "source": [
    "<h3>Q1.1.22 How will you check if a class is a child of another class?</h3>\n",
    "<p><b>Answer</b></p>\n",
    "In Python, you can check if a class is a child (or subclass) of another class using the issubclass() function."
   ]
  },
  {
   "cell_type": "code",
   "execution_count": null,
   "metadata": {},
   "outputs": [],
   "source": [
    "# Example\n",
    "\n",
    "class Parent:\n",
    "    pass\n",
    "\n",
    "class Child(Parent):\n",
    "    pass\n",
    "\n",
    "print(issubclass(Child, Parent))  # Output: True\n"
   ]
  },
  {
   "cell_type": "markdown",
   "metadata": {},
   "source": [
    "<h3>Q1.1.23 How does inheritance work in python? Explain all types of inheritance with an example.</h3>\n",
    "<p><b>Answer</b></p>\n",
    "Inheritance in Python is a mechanism that allows one class (the child or subclass) to inherit the attributes and methods of another class (the parent or superclass). This enables code reuse and a more hierarchical organization of code.\n",
    "\n",
    "1. Single Inheritance:\n",
    "A child class inherits from a single parent class.\n",
    "\n",
    "2. Multiple Inheritance:\n",
    "A child class inherits from multiple parent classes.\n",
    "\n",
    "\n",
    "3. Multilevel Inheritance:\n",
    "A child class inherits from a parent class, which itself inherits from another parent class.\n",
    "\n",
    "4. Hierarchical Inheritance:\n",
    "Multiple child classes inherit from a single parent class.\n",
    "\n",
    "\n",
    "\n",
    "### Here are the types of inheritance in Python, along with examples:\n"
   ]
  },
  {
   "cell_type": "code",
   "execution_count": null,
   "metadata": {},
   "outputs": [],
   "source": [
    "# Single Inheritance:\n",
    "class Parent:\n",
    "    def __init__(self):\n",
    "        self.parent_attr = \"Parent attribute\"\n",
    "\n",
    "class Child(Parent):\n",
    "    def __init__(self):\n",
    "        super().__init__()\n",
    "        self.child_attr = \"Child attribute\"\n",
    "\n",
    "child = Child()\n",
    "print(child.parent_attr)  # Output: Parent attribute\n",
    "print(child.child_attr)  # Output: Child attribute\n",
    "\n"
   ]
  },
  {
   "cell_type": "code",
   "execution_count": null,
   "metadata": {},
   "outputs": [],
   "source": [
    "# Multiple Inheritance:\n",
    "\n",
    "class Parent1:\n",
    "    def __init__(self):\n",
    "        self.parent1_attr = \"Parent1 attribute\"\n",
    "\n",
    "class Parent2:\n",
    "    def __init__(self):\n",
    "        self.parent2_attr = \"Parent2 attribute\"\n",
    "\n",
    "class Child(Parent1, Parent2):\n",
    "    def __init__(self):\n",
    "        super().__init__()\n",
    "        self.child_attr = \"Child attribute\"\n",
    "\n",
    "child = Child()\n",
    "print(child.parent1_attr)  # Output: Parent1 attribute\n",
    "print(child.parent2_attr)  # Output: Parent2 attribute\n",
    "print(child.child_attr)  # Output: Child attribute\n"
   ]
  },
  {
   "cell_type": "code",
   "execution_count": null,
   "metadata": {},
   "outputs": [],
   "source": [
    "# Multilevel Inheritance:\n",
    "class Grandparent:\n",
    "    def __init__(self):\n",
    "        self.grandparent_attr = \"Grandparent attribute\"\n",
    "\n",
    "class Parent(Grandparent):\n",
    "    def __init__(self):\n",
    "        super().__init__()\n",
    "        self.parent_attr = \"Parent attribute\"\n",
    "\n",
    "class Child(Parent):\n",
    "    def __init__(self):\n",
    "        super().__init__()\n",
    "        self.child_attr = \"Child attribute\"\n",
    "\n",
    "child = Child()\n",
    "print(child.grandparent_attr)  # Output: Grandparent attribute\n",
    "print(child.parent_attr)  # Output: Parent attribute\n",
    "print(child.child_attr)  # Output: Child attribute\n"
   ]
  },
  {
   "cell_type": "code",
   "execution_count": null,
   "metadata": {},
   "outputs": [],
   "source": [
    "# Hierarchical Inheritance:\n",
    "class Parent:\n",
    "    def __init__(self):\n",
    "        self.parent_attr = \"Parent attribute\"\n",
    "\n",
    "class Child1(Parent):\n",
    "    def __init__(self):\n",
    "        super().__init__()\n",
    "        self.child1_attr = \"Child1 attribute\"\n",
    "\n",
    "class Child2(Parent):\n",
    "    def __init__(self):\n",
    "        super().__init__()\n",
    "        self.child2_attr = \"Child2 attribute\"\n",
    "\n",
    "child1 = Child1()\n",
    "child2 = Child2()\n",
    "print(child1.parent_attr)  # Output: Parent attribute\n",
    "print(child1.child1_attr)  # Output: Child1 attribute\n",
    "print(child2.parent_attr)  # Output: Parent attribute\n",
    "print(child2.child2_attr)  # Output: Child2 attribute\n"
   ]
  },
  {
   "cell_type": "markdown",
   "metadata": {},
   "source": [
    "<h3>Q1.1.24 What is encapsulatio? Explain it with an example?</h3>\n",
    "<p><b>Answer</b></p>\n",
    "together the data and methods that manipulate that data, hiding the implementation details from the outside world. It's like a protective wrapper around the data, only exposing the necessary information through public methods.\n"
   ]
  },
  {
   "cell_type": "code",
   "execution_count": null,
   "metadata": {},
   "outputs": [],
   "source": [
    "# Example\n",
    "\n",
    "class BankAccount:\n",
    "    def __init__(self, balance=0):\n",
    "        self.__balance = balance  # private attribute\n",
    "\n",
    "    def deposit(self, amount):\n",
    "        self.__balance += amount\n",
    "\n",
    "    def get_balance(self):\n",
    "        return self.__balance\n",
    "\n",
    "account = BankAccount(100)\n",
    "account.deposit(50)\n",
    "print(account.get_balance())  # Output: 150\n"
   ]
  },
  {
   "cell_type": "markdown",
   "metadata": {},
   "source": [
    "<h3>Q1.1.25 What is polymorphism? Explain with an example.</h3>\n",
    "<p><b>Answer</b></p>\n",
    "Polymorphism is a fundamental concept in object-oriented programming (OOP) that allows objects of different classes to be treated as objects of a common parent or base class. This enables methods to be written that can work with objects of different classes, without knowing their specific class.\n"
   ]
  },
  {
   "cell_type": "code",
   "execution_count": null,
   "metadata": {},
   "outputs": [],
   "source": [
    "class Shape:\n",
    "    def area(self):\n",
    "        pass\n",
    "\n",
    "class Circle(Shape):\n",
    "    def __init__(self, radius):\n",
    "        self.radius = radius\n",
    "\n",
    "    def area(self):\n",
    "        return 3.14 * self.radius ** 2\n",
    "\n",
    "class Rectangle(Shape):\n",
    "    def __init__(self, width, height):\n",
    "        self.width = width\n",
    "        self.height = height\n",
    "\n",
    "    def area(self):\n",
    "        return self.width * self.height\n",
    "\n",
    "def calculate_area(shape):\n",
    "    return shape.area()\n",
    "\n",
    "circle = Circle(5)\n",
    "rectangle = Rectangle(4, 6)\n",
    "\n",
    "print(calculate_area(circle))  # Output: 78.5\n",
    "print(calculate_area(rectangle))  # Output: 24\n"
   ]
  },
  {
   "cell_type": "markdown",
   "metadata": {},
   "source": [
    "<h1 style='color: green;'><center>Question 1.2</center></h1>"
   ]
  },
  {
   "cell_type": "markdown",
   "metadata": {},
   "source": [
    "<h3>Q1.2 Which of the following identifier names are invalid and why?</h3>\n",
    "\n",
    "1. Serial_no.\n",
    " Invalid due to (.) at the end.\n",
    "2. 1st_Room\n",
    " Invalid identifier name not start with number.\n",
    "3. Hundred$\n",
    " Invalid identifier name not contain any special character.\n",
    "4. Total_Marks\n",
    " This is valid identifier.\n",
    "5. total-Marks\n",
    " Invalid identifier name not seprated by (-).\n",
    "6. Total Marks\n",
    "  Invalid identifier name not seprated by space.\n",
    "7. True\n",
    "  Invalid identifier name not any bool value.\n",
    "8. _percentag\n",
    " This is valid identifier.\n",
    "<p>Answer</p>\n",
    "\n",
    "<p>From the above identifiers name only 4th and 8th are valid and other are invalid.</p>"
   ]
  },
  {
   "cell_type": "markdown",
   "metadata": {},
   "source": [
    "<h1 style='color: green;'><center>Question 1.3</center></h1>"
   ]
  },
  {
   "cell_type": "markdown",
   "metadata": {},
   "source": [
    "<h3>Question 1.3</h3>"
   ]
  },
  {
   "cell_type": "code",
   "execution_count": null,
   "metadata": {},
   "outputs": [],
   "source": [
    "name=['Mohan', 'dash', 'karam', 'chandra', 'gandhi', 'Bapu']\n",
    "\n",
    "## operations\n",
    "## add an element \"freedom_fighter\" in the list at the 0th index.\n",
    "name.insert(0, 'freedom_fighter')\n",
    "\n",
    "## find the output of the followin and explain how?\n",
    "length1=len((name[-len(name)+1:-1:2]))\n",
    "length2=len((name[-len(name)+1:-1]))\n",
    "print(length1, length2)\n",
    "\n",
    "\"\"\"Explaination:- \n",
    "\"\"\"\n",
    "\n",
    "## add two more elements in the name ['NetaJi', 'Bose'] at the end of the list\n",
    "add_names= ['NetaJi', 'Bose'] \n",
    "name=name.extend(add_names)\n",
    "\n",
    "## what will be the value of temp.\n",
    "#name=['Bapuji', 'dash', 'karam', 'chandra', 'gandhi', 'Mohan']\n",
    "#temp=name[-1]\n",
    "#name[-1]=name[0]\n",
    "#name[0]=temp\n",
    "#print(name)\n",
    "\n",
    "## it return ['Mohan', 'dash', 'karam', 'chandra', 'gandhi', 'Bapuji']\n",
    "\n",
    "\n"
   ]
  },
  {
   "cell_type": "markdown",
   "metadata": {},
   "source": [
    "<h3 style='color: green;'><center>Question 1.4</center></h3>"
   ]
  },
  {
   "cell_type": "code",
   "execution_count": null,
   "metadata": {},
   "outputs": [],
   "source": [
    "## find the output of the following\n",
    "\n",
    "animal=['Human', 'cat', 'mat', 'rat', 'Human', 'Lion']\n",
    "print(animal.count('Human'))\n",
    "print(animal.index('rat'))\n",
    "print(len(animal))"
   ]
  },
  {
   "cell_type": "markdown",
   "metadata": {},
   "source": [
    "<h3 style='color: green;'><center>Question 1.5</center></h3>"
   ]
  },
  {
   "cell_type": "code",
   "execution_count": null,
   "metadata": {},
   "outputs": [],
   "source": [
    "# tuple manipulation\n",
    "\n",
    "Tuple=(10,20,'Apple', 3,4,'a', ['master', 'ji'], ('sita', 'geeta', 22), [{'roll_no':1}, {'name': 'Navneet'}])\n",
    "\n",
    "## print length of tuple\n",
    "print(len(Tuple))\n",
    "\n",
    "print(Tuple[-1][-1]['name'])\n",
    "\n",
    "## fetch the value of roll_no from this tupe\n",
    "print(Tuple[-1][-2]['roll_no'])\n",
    "print(Tuple[-3][1])\n",
    "\n",
    "## fetch the element '22' from this tuple\n",
    "print(Tuple[-2][2])\n",
    "\n"
   ]
  },
  {
   "cell_type": "markdown",
   "metadata": {},
   "source": [
    "<h3 style='color: green;'><center>Question 1.6</center></h3>\n",
    "\n",
    "Write a program to display the appriate message as per the color of signal at the road crossing."
   ]
  },
  {
   "cell_type": "code",
   "execution_count": null,
   "metadata": {},
   "outputs": [],
   "source": [
    "## Example\n",
    "\n",
    "def signal(color:str)->str:\n",
    "    \"\"\"_summary_\n",
    "\n",
    "    Args:\n",
    "        color (str): Take signal light color as input 'Red' , 'Yellow', 'Green'.\n",
    "\n",
    "    Returns:\n",
    "        str: the appriate message as per the color of signal at the road crossing.\n",
    "    \"\"\"\n",
    "    \n",
    "    color=color.lower()\n",
    "    if color=='red':\n",
    "        return 'Stop'\n",
    "    elif color=='yellow':\n",
    "        return 'Stay'\n",
    "    elif color=='green':\n",
    "        return 'Go'\n",
    "    else:\n",
    "        return 'Select color from red , yellow, green.'\n",
    "    \n",
    "print(signal('Green'))        \n",
    "    \n",
    "    "
   ]
  },
  {
   "cell_type": "markdown",
   "metadata": {},
   "source": [
    "<h3 style='color: green;'><center>Question 1.7</center></h3>\n",
    "write a program to create a simple calculator performing only four basic operations(+, -, *, /).\n"
   ]
  },
  {
   "cell_type": "code",
   "execution_count": null,
   "metadata": {},
   "outputs": [],
   "source": [
    "## Example\n",
    "\n",
    "class calculator:\n",
    "    \n",
    "    def __init__(self) -> None:\n",
    "        pass\n",
    "    \n",
    "    def Add(self, a, b):\n",
    "        try:\n",
    "            return a+b\n",
    "        except Exception as e:\n",
    "            return e\n",
    "    def Subtract(self, a, b):\n",
    "        try:\n",
    "            return a-b\n",
    "        except Exception as e:\n",
    "            return e \n",
    "        \n",
    "    def Product(self, a, b):\n",
    "        try:\n",
    "            return a*b\n",
    "        except Exception as e:\n",
    "            return e       \n",
    "        \n",
    "    def Divide(self, a, b):\n",
    "        try:\n",
    "            return a/b\n",
    "        except Exception as e:\n",
    "            return e\n",
    "        \n",
    "print(calculator().Add(5,5))\n",
    "print(calculator().Subtract(10,5))\n",
    "print(calculator().Product(5,5))\n",
    "print(calculator().Divide(25,5))\n",
    "        \n",
    "        \n",
    "    "
   ]
  },
  {
   "cell_type": "markdown",
   "metadata": {},
   "source": [
    "<h3 style='color: green;'><center>Question 1.8</center></h3>\n",
    "write a program to find the larger of the three pre-specified numbers using ternary operators."
   ]
  },
  {
   "cell_type": "code",
   "execution_count": null,
   "metadata": {},
   "outputs": [],
   "source": [
    "# Pre-specified numbers\n",
    "a = 10\n",
    "b = 20\n",
    "c = 15\n",
    "\n",
    "# Finding the largest number using ternary operators\n",
    "largest = a if (a > b and a > c) else (b if b > c else c)\n",
    "\n",
    "# Printing the largest number\n",
    "print(\"The largest number is:\", largest)"
   ]
  },
  {
   "cell_type": "markdown",
   "metadata": {},
   "source": [
    "<h3 style='color: green;'><center>Question 1.9</center></h3>\n",
    "write a program to find the factors of a whole number using a while loop."
   ]
  },
  {
   "cell_type": "code",
   "execution_count": null,
   "metadata": {},
   "outputs": [],
   "source": [
    "# Input: whole number\n",
    "num = 28\n",
    "\n",
    "# Start with the first possible factor\n",
    "i = 1\n",
    "\n",
    "# Initialize an empty list to store factors\n",
    "factors = []\n",
    "\n",
    "# Loop to find factors\n",
    "while i <= num:\n",
    "    if num % i == 0:\n",
    "        factors.append(i)\n",
    "    i += 1\n",
    "\n",
    "# Printing the factors\n",
    "print(\"The factors of\", num, \"are:\", factors)"
   ]
  },
  {
   "cell_type": "markdown",
   "metadata": {},
   "source": [
    "<h3 style='color: green;'><center>Question 1.10</center></h3>\n",
    "Write a program to find the sum of all psositive number entered by the user. As soon as the user enters a negative number, stop taking in any further input form the user and display the sum."
   ]
  },
  {
   "cell_type": "code",
   "execution_count": null,
   "metadata": {},
   "outputs": [],
   "source": [
    "Sum=0\n",
    "\n",
    "while True:\n",
    "    num=float(input('Enter numbers'))\n",
    "    if num<0:\n",
    "        break\n",
    "    Sum+=num\n",
    "print(Sum)    "
   ]
  },
  {
   "cell_type": "markdown",
   "metadata": {},
   "source": [
    "<h3 style='color: green;'><center>Question 1.11</center></h3>\n",
    "Write a program to find the prime numbers between 2 to 100 using nested for loops."
   ]
  },
  {
   "cell_type": "code",
   "execution_count": null,
   "metadata": {},
   "outputs": [],
   "source": [
    "# Function to check if a number is prime\n",
    "def is_prime(num):\n",
    "    if num <= 1:\n",
    "        return False\n",
    "    for i in range(2, int(num**0.5) + 1):\n",
    "        if num % i == 0:\n",
    "            return False\n",
    "    return True\n",
    "\n",
    "# List to store prime numbers\n",
    "prime_numbers = []\n",
    "\n",
    "# Loop through numbers from 2 to 100\n",
    "for number in range(2, 101):\n",
    "    if is_prime(number):\n",
    "        prime_numbers.append(number)\n",
    "\n",
    "# Print the prime numbers\n",
    "print(\"Prime numbers between 2 and 100 are:\", prime_numbers)"
   ]
  },
  {
   "cell_type": "markdown",
   "metadata": {},
   "source": [
    "<h3 style='color: green;'><center>Question 1.12</center></h3>\n",
    "Write the program for the following:\n",
    "\n",
    "- Accept the marks of the student in five major subject and displat the same.\n",
    "- Calculate the sum of the marks of all subjects. Divide the total marks by number of subjects, and calculate the percentage.\n",
    "- Finde the grade of the student as per the following critiria.\n",
    "\n",
    "1. percentage > 85 Grade A\n",
    "2. percentage < 85 and percentage >=75 Grade B\n",
    "3. percentage < 75 and percentage >=50 Grade C\n",
    "4. percentage > 30 and percentage <=50 Grade D\n",
    "5. percentage < 30 Reappear\n"
   ]
  },
  {
   "cell_type": "code",
   "execution_count": null,
   "metadata": {},
   "outputs": [],
   "source": [
    "# Function to calculate the grade based on percentage\n",
    "def calculate_grade(percentage):\n",
    "    if percentage > 85:\n",
    "        return 'A'\n",
    "    elif 75 <= percentage <= 85:\n",
    "        return 'B'\n",
    "    elif 50 <= percentage < 75:\n",
    "        return 'C'\n",
    "    elif 30 < percentage < 50:\n",
    "        return 'D'\n",
    "    else:\n",
    "        return 'Reappear'\n",
    "\n",
    "# Accept the marks of the student in five major subjects\n",
    "marks = []\n",
    "for i in range(5):\n",
    "    mark = float(input(f\"Enter the marks for subject {i+1}: \"))\n",
    "    marks.append(mark)\n",
    "\n",
    "# Display the marks\n",
    "print(\"\\nMarks obtained in five subjects:\", marks)\n",
    "\n",
    "# Calculate the sum of the marks\n",
    "total_marks = sum(marks)\n",
    "\n",
    "# Calculate the percentage\n",
    "number_of_subjects = 5\n",
    "percentage = total_marks / number_of_subjects\n",
    "\n",
    "# Find the grade of the student\n",
    "grade = calculate_grade(percentage)\n",
    "\n",
    "# Display the total marks, percentage, and grade\n",
    "print(f\"\\nTotal Marks: {total_marks}\")\n",
    "print(f\"Percentage: {percentage:.2f}%\")\n",
    "print(f\"Grade: {grade}\")\n"
   ]
  },
  {
   "cell_type": "markdown",
   "metadata": {},
   "source": [
    "<h3 style='color: green;'><center>Question 1.13</center></h3>\n",
    "Write a program for VIBGYOR Spectrum based on their Wavelength using."
   ]
  },
  {
   "cell_type": "code",
   "execution_count": null,
   "metadata": {},
   "outputs": [],
   "source": [
    "# Function to get the color based on wavelength\n",
    "def get_color(wavelength):\n",
    "    if 380 <= wavelength < 450:\n",
    "        return 'Violet'\n",
    "    elif 450 <= wavelength < 495:\n",
    "        return 'Indigo'\n",
    "    elif 495 <= wavelength < 570:\n",
    "        return 'Blue'\n",
    "    elif 570 <= wavelength < 590:\n",
    "        return 'Green'\n",
    "    elif 590 <= wavelength < 620:\n",
    "        return 'Yellow'\n",
    "    elif 620 <= wavelength < 750:\n",
    "        return 'Orange'\n",
    "    elif 750 <= wavelength <= 780:\n",
    "        return 'Red'\n",
    "    else:\n",
    "        return 'Out of visible spectrum'\n",
    "\n",
    "# List of wavelengths for VIBGYOR spectrum\n",
    "wavelengths = [400, 470, 510, 580, 600, 630, 750]\n",
    "\n",
    "# Display the colors based on their wavelength\n",
    "print(\"VIBGYOR Spectrum based on Wavelength:\")\n",
    "for wl in wavelengths:\n",
    "    color = get_color(wl)\n",
    "    print(f\"Wavelength {wl} nm: {color}\")\n"
   ]
  },
  {
   "cell_type": "markdown",
   "metadata": {},
   "source": [
    "<h3 style='color: green;'><center>Question 1.14</center></h3>\n",
    "Consider the gravitational interactions between the Earth, Moon, and Sun in our solar system.\n",
    "Given:\n",
    "\n",
    "- mass_earth= 5.972e24\n",
    "- mass_moon= 7.3476730e22\n",
    "- mass_sun=1.989e30\n",
    "- distance_earth_sun=1.496e11\n",
    "- distance_moon_earth=3.844e8\n",
    "\n",
    "Tasks:\n",
    "- Calculate the gravitational force between the earth and the sun.\n",
    "- Calculate the gravitational force between the Moon and the Earth.\n",
    "- Compare the calculated forces to determine which gravitational force is stronger.\n",
    "- Explain which celestial body (Earth and Moon) is more attracted to other based on the comparison.\n",
    "\n",
    "\n"
   ]
  },
  {
   "cell_type": "code",
   "execution_count": null,
   "metadata": {},
   "outputs": [],
   "source": [
    "# Constants\n",
    "G = 6.67430e-11  # Gravitational constant in m^3 kg^-1 s^-2\n",
    "\n",
    "# Given masses (in kg) and distances (in meters)\n",
    "mass_earth = 5.972e24\n",
    "mass_moon = 7.3476730e22\n",
    "mass_sun = 1.989e30\n",
    "distance_earth_sun = 1.496e11\n",
    "distance_moon_earth = 3.844e8\n",
    "\n",
    "# Calculate gravitational forces\n",
    "force_earth_sun = G * (mass_earth * mass_sun) / (distance_earth_sun ** 2)\n",
    "force_moon_earth = G * (mass_earth * mass_moon) / (distance_moon_earth ** 2)\n",
    "\n",
    "# Compare forces\n",
    "if force_earth_sun > force_moon_earth:\n",
    "    stronger_force = \"Earth-Sun system (Earth towards Sun)\"\n",
    "else:\n",
    "    stronger_force = \"Moon-Earth system (Moon towards Earth)\"\n",
    "\n",
    "# Print results\n",
    "print(f\"Gravitational force between Earth and Sun: {force_earth_sun} N\")\n",
    "print(f\"Gravitational force between Moon and Earth: {force_moon_earth} N\")\n",
    "print(f\"The stronger gravitational force is in the {stronger_force}.\")\n"
   ]
  }
 ],
 "metadata": {
  "kernelspec": {
   "display_name": "base",
   "language": "python",
   "name": "python3"
  },
  "language_info": {
   "codemirror_mode": {
    "name": "ipython",
    "version": 3
   },
   "file_extension": ".py",
   "mimetype": "text/x-python",
   "name": "python",
   "nbconvert_exporter": "python",
   "pygments_lexer": "ipython3",
   "version": "3.11.7"
  }
 },
 "nbformat": 4,
 "nbformat_minor": 2
}
