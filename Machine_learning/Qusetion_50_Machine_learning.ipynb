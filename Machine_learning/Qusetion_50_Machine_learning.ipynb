{
 "cells": [
  {
   "cell_type": "markdown",
   "metadata": {},
   "source": [
    "<h1 style='color: green;'><center>Question 50 <br> Machine Learning</center></h1>"
   ]
  },
  {
   "cell_type": "markdown",
   "metadata": {},
   "source": [
    "<h3>Q1 What is the differnece between Series & Dataframe.</h3>\n",
    "<p><B>Answer</B></p>\n",
    "Following are the difference between Series and dataframe.\n",
    "  <table>\n",
    "        <tr>\n",
    "            <th>Feature</th>\n",
    "            <th>Series</th>\n",
    "            <th>DataFrame</th>\n",
    "        </tr>\n",
    "        <tr>\n",
    "            <td>Dimensionality</td>\n",
    "            <td>One-dimensional (single column)</td>\n",
    "            <td>Two-dimensional (rows and columns)</td>\n",
    "        </tr>\n",
    "        <tr>\n",
    "            <td>Data Type Homogeneity</td>\n",
    "            <td>All elements must have the same data type</td>\n",
    "            <td>Columns can have different data types (int, string, etc.)</td>\n",
    "        </tr>\n",
    "        <tr>\n",
    "            <td>Size Mutability</td>\n",
    "            <td>Immutable (size cannot be changed)</td>\n",
    "            <td>Mutable (size can be dynamically changed)</td>\n",
    "        </tr>\n",
    "        <tr>\n",
    "            <td>Use Cases</td>\n",
    "            <td>Simple data sequences, univariate analysis</td>\n",
    "            <td>Tabular data, relational data, multivariate analysis</td>\n",
    "        </tr>\n",
    "    </table>"
   ]
  },
  {
   "cell_type": "markdown",
   "metadata": {},
   "source": [
    "<h3>Q2 Create a database name Travel_Planner in mysql, and create a table name bookings in that which having attributes (user_id INT, flight_id INT, hotel_id INT, activity_id INT, booking_date DATE). Fill with some dummy values. Now you have to read the content as pandas dataframe and display the output.</h3>"
   ]
  },
  {
   "cell_type": "code",
   "execution_count": 6,
   "metadata": {},
   "outputs": [
    {
     "data": {
      "text/html": [
       "<div>\n",
       "<style scoped>\n",
       "    .dataframe tbody tr th:only-of-type {\n",
       "        vertical-align: middle;\n",
       "    }\n",
       "\n",
       "    .dataframe tbody tr th {\n",
       "        vertical-align: top;\n",
       "    }\n",
       "\n",
       "    .dataframe thead th {\n",
       "        text-align: right;\n",
       "    }\n",
       "</style>\n",
       "<table border=\"1\" class=\"dataframe\">\n",
       "  <thead>\n",
       "    <tr style=\"text-align: right;\">\n",
       "      <th></th>\n",
       "      <th>user_id</th>\n",
       "      <th>flight_id</th>\n",
       "      <th>hotel_id</th>\n",
       "      <th>activity_id</th>\n",
       "      <th>booking_date</th>\n",
       "    </tr>\n",
       "  </thead>\n",
       "  <tbody>\n",
       "    <tr>\n",
       "      <th>0</th>\n",
       "      <td>1</td>\n",
       "      <td>3462</td>\n",
       "      <td>465</td>\n",
       "      <td>789</td>\n",
       "      <td>2024-07-10</td>\n",
       "    </tr>\n",
       "    <tr>\n",
       "      <th>1</th>\n",
       "      <td>2</td>\n",
       "      <td>4564</td>\n",
       "      <td>675</td>\n",
       "      <td>246</td>\n",
       "      <td>2024-07-12</td>\n",
       "    </tr>\n",
       "    <tr>\n",
       "      <th>2</th>\n",
       "      <td>3</td>\n",
       "      <td>6436</td>\n",
       "      <td>263</td>\n",
       "      <td>465</td>\n",
       "      <td>2024-07-08</td>\n",
       "    </tr>\n",
       "    <tr>\n",
       "      <th>3</th>\n",
       "      <td>4</td>\n",
       "      <td>3642</td>\n",
       "      <td>783</td>\n",
       "      <td>674</td>\n",
       "      <td>2024-07-09</td>\n",
       "    </tr>\n",
       "  </tbody>\n",
       "</table>\n",
       "</div>"
      ],
      "text/plain": [
       "   user_id  flight_id  hotel_id  activity_id booking_date\n",
       "0        1       3462       465          789   2024-07-10\n",
       "1        2       4564       675          246   2024-07-12\n",
       "2        3       6436       263          465   2024-07-08\n",
       "3        4       3642       783          674   2024-07-09"
      ]
     },
     "execution_count": 6,
     "metadata": {},
     "output_type": "execute_result"
    }
   ],
   "source": [
    "## Example\n",
    "## We already create a database named Travel_Planner and a table named with bookings with dummy values.\n",
    "\n",
    "import sqlite3 as sql\n",
    "import pandas as pd\n",
    "\n",
    "database=sql.connect('Travel_Planner.db')\n",
    "cursor=database.cursor()\n",
    "\n",
    "query=f\"SELECT * FROM bookings\"\n",
    "df=pd.read_sql_query(query, database)\n",
    "\n",
    "# Commiting and closing the connection from the database.\n",
    "database.commit()\n",
    "database.close()\n",
    "\n",
    "# Displaying the dataframe.\n",
    "df"
   ]
  },
  {
   "cell_type": "markdown",
   "metadata": {},
   "source": [
    "<h3>Q3 Difference between loc and iloc.</h3>\n",
    "<p><b>Answer</b></p>\n",
    "\n",
    "# loc\n",
    "- Selects data based on labels (row and/or column names) in the DataFrame's index or columns.\n",
    "Useful when you know the specific labels of the data you want to access.\n",
    "# iloc\n",
    "- Selects data based on integer positions within the DataFrame.\n",
    "Useful when you know the exact numerical positions of the rows and columns you need."
   ]
  },
  {
   "cell_type": "markdown",
   "metadata": {},
   "source": []
  }
 ],
 "metadata": {
  "kernelspec": {
   "display_name": "base",
   "language": "python",
   "name": "python3"
  },
  "language_info": {
   "codemirror_mode": {
    "name": "ipython",
    "version": 3
   },
   "file_extension": ".py",
   "mimetype": "text/x-python",
   "name": "python",
   "nbconvert_exporter": "python",
   "pygments_lexer": "ipython3",
   "version": "3.11.9"
  }
 },
 "nbformat": 4,
 "nbformat_minor": 2
}
